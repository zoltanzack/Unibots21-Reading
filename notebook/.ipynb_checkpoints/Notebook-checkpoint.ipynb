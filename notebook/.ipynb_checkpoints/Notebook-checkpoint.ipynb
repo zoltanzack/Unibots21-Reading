{
 "cells": [
  {
   "cell_type": "code",
   "execution_count": 1,
   "id": "0e0995ff",
   "metadata": {},
   "outputs": [],
   "source": [
    "# Global Imports\n",
    "import os\n",
    "import sys\n",
    "module_path = os.path.abspath(os.path.join('../scripts/modules'))\n",
    "if module_path not in sys.path:\n",
    "    sys.path.append(module_path)"
   ]
  },
  {
   "cell_type": "code",
   "execution_count": 2,
   "id": "642c2a71",
   "metadata": {},
   "outputs": [
    {
     "data": {
      "application/vnd.jupyter.widget-view+json": {
       "model_id": "c4f3987ebb18438eb1b3b3d62ea75e39",
       "version_major": 2,
       "version_minor": 0
      },
      "text/plain": [
       "VBox(children=(HBox(children=(BoundedIntText(value=-1, description='Start Button Pin', max=40, min=-1, style=D…"
      ]
     },
     "metadata": {},
     "output_type": "display_data"
    }
   ],
   "source": [
    "# User Interface\n",
    "import utility\n",
    "import ipywidgets as widgets\n",
    "\n",
    "# Constants\n",
    "i2c_pins = [(3, 5), (27, 28)] # (SDA, SCL)\n",
    "\n",
    "# Initial values\n",
    "i2c_bus = [f'I2C_1 {i2c_pins[0]}', f'I2C_2 {i2c_pins[1]}']\n",
    "\n",
    "# Start button IO pin\n",
    "start_button_pin = -1 # Not defined yet\n",
    "\n",
    "# Back ball hatches servo locations\n",
    "lower_hatch_pin = 0\n",
    "upper_hatch_pin = 8\n",
    "\n",
    "# Front flipper servo location\n",
    "flipper_pin = 3\n",
    "\n",
    "# Motor control PWM locations: (A, B)\n",
    "motor_left_pins  = (5, 4) \n",
    "motor_right_pins = (6, 7)\n",
    "\n",
    "# Widgets\n",
    "start_button_widget = utility.createPinField(start_button_pin, 'Start Button Pin', -1, 40)\n",
    "lower_hatch_widget = utility.createPinField(lower_hatch_pin, 'Lower Hatch Servo Location', -1, 16)\n",
    "upper_hatch_widget = utility.createPinField(upper_hatch_pin, 'Upper Hatch Servo Location', -1, 16)\n",
    "flipper_widget = utility.createPinField(flipper_pin, 'Flipper Servo Location', -1, 16)\n",
    "motor_left_A_widget = utility.createPinField(motor_left_pins[0], 'Motor 1A PWM Pin', -1, 16)\n",
    "motor_left_B_widget = utility.createPinField(motor_left_pins[1], 'Motor 1B PWM Pin', -1, 16)\n",
    "motor_right_A_widget = utility.createPinField(motor_right_pins[0], 'Motor 2A PWM Pin', -1, 16)\n",
    "motor_right_B_widget = utility.createPinField(motor_right_pins[1], 'Motor 2B PWM Pin', -1, 16)\n",
    "graceperiod_widget = utility.createIntSliderField(30, 'Grace Period (seconds)', 0, 180)\n",
    "i2c_widget = utility.createDropdownField(i2c_bus, i2c_bus[0], 'I2C Bus')\n",
    "\n",
    "widgets.VBox([\n",
    "    widgets.HBox([start_button_widget]),\n",
    "    widgets.HBox([lower_hatch_widget, upper_hatch_widget, flipper_widget]), \n",
    "    widgets.HBox([motor_left_A_widget, motor_left_B_widget, motor_right_A_widget, motor_right_B_widget]),\n",
    "    widgets.HBox([i2c_widget]),\n",
    "    widgets.HBox([graceperiod_widget])\n",
    "])"
   ]
  },
  {
   "cell_type": "markdown",
   "id": "f7429deb",
   "metadata": {},
   "source": [
    "# Initialise"
   ]
  },
  {
   "cell_type": "code",
   "execution_count": 5,
   "id": "22660320",
   "metadata": {},
   "outputs": [
    {
     "ename": "NameError",
     "evalue": "name 'base' is not defined",
     "output_type": "error",
     "traceback": [
      "\u001b[0;31m---------------------------------------------------------------------------\u001b[0m",
      "\u001b[0;31mNameError\u001b[0m                                 Traceback (most recent call last)",
      "\u001b[0;32m/tmp/ipykernel_15333/3731776616.py\u001b[0m in \u001b[0;36m<module>\u001b[0;34m\u001b[0m\n\u001b[1;32m     17\u001b[0m \u001b[0;34m\u001b[0m\u001b[0m\n\u001b[1;32m     18\u001b[0m \u001b[0;31m# Robot\u001b[0m\u001b[0;34m\u001b[0m\u001b[0;34m\u001b[0m\u001b[0;34m\u001b[0m\u001b[0m\n\u001b[0;32m---> 19\u001b[0;31m robot = base.Robot(flipper_widget.value, \n\u001b[0m\u001b[1;32m     20\u001b[0m                    \u001b[0mlower_hatch_widget\u001b[0m\u001b[0;34m.\u001b[0m\u001b[0mvalue\u001b[0m\u001b[0;34m,\u001b[0m\u001b[0;34m\u001b[0m\u001b[0;34m\u001b[0m\u001b[0m\n\u001b[1;32m     21\u001b[0m                    \u001b[0mupper_hatch_widget\u001b[0m\u001b[0;34m.\u001b[0m\u001b[0mvalue\u001b[0m\u001b[0;34m,\u001b[0m\u001b[0;34m\u001b[0m\u001b[0;34m\u001b[0m\u001b[0m\n",
      "\u001b[0;31mNameError\u001b[0m: name 'base' is not defined"
     ]
    }
   ],
   "source": [
    "import codebase as base\n",
    "import vision\n",
    "\n",
    "# Vision System\n",
    "wallColours = [\n",
    "    ((24, 113, 174), (27, 156, 210)), # Yellow - North\n",
    "    ((160, 190, 132), (165, 227, 154)), # Purple - East\n",
    "    ((4, 144, 111), (20, 217, 198)), # Orange - South\n",
    "    ((49, 125, 97), (74, 227, 196)) # Green - West\n",
    "]\n",
    "\n",
    "tennis_ball_colour = ((30, 50, 90), (50, 255, 255)) # - For hough circle transform (very lenient)\n",
    "ping_pong_colour = ((0, 0, 100), (255, 30, 255)) # - For hough circle transform (very lenient)\n",
    "\n",
    "camera = vision.Camera()\n",
    "vision = vision.Vision(wallColours, tennis_ball_colour, ping_pong_colour)\n",
    "\n",
    "# Robot\n",
    "robot = base.Robot(flipper_widget.value, \n",
    "                   lower_hatch_widget.value, \n",
    "                   upper_hatch_widget.value, \n",
    "                   (motor_left_A_widget.value, motor_left_B_widget.value), \n",
    "                   (motor_right_A_widget.value, motor_right_B_widget.value))\n",
    "   "
   ]
  },
  {
   "cell_type": "markdown",
   "id": "f78ca3e5",
   "metadata": {},
   "source": [
    "# Execute"
   ]
  },
  {
   "cell_type": "code",
   "execution_count": 4,
   "id": "d5e6e3d5",
   "metadata": {},
   "outputs": [
    {
     "ename": "NameError",
     "evalue": "name 'robot' is not defined",
     "output_type": "error",
     "traceback": [
      "\u001b[0;31m---------------------------------------------------------------------------\u001b[0m",
      "\u001b[0;31mNameError\u001b[0m                                 Traceback (most recent call last)",
      "\u001b[0;32m/tmp/ipykernel_15333/1363189287.py\u001b[0m in \u001b[0;36m<module>\u001b[0;34m\u001b[0m\n\u001b[1;32m     16\u001b[0m \u001b[0;31m#cv2.destroyAllWindows()\u001b[0m\u001b[0;34m\u001b[0m\u001b[0;34m\u001b[0m\u001b[0;34m\u001b[0m\u001b[0m\n\u001b[1;32m     17\u001b[0m \u001b[0;34m\u001b[0m\u001b[0m\n\u001b[0;32m---> 18\u001b[0;31m \u001b[0mrobot\u001b[0m\u001b[0;34m.\u001b[0m\u001b[0mtestServo\u001b[0m\u001b[0;34m(\u001b[0m\u001b[0;34m)\u001b[0m\u001b[0;34m\u001b[0m\u001b[0;34m\u001b[0m\u001b[0m\n\u001b[0m\u001b[1;32m     19\u001b[0m \u001b[0;34m\u001b[0m\u001b[0m\n\u001b[1;32m     20\u001b[0m \u001b[0;31m#robot.motorRight.move(0.3)\u001b[0m\u001b[0;34m\u001b[0m\u001b[0;34m\u001b[0m\u001b[0;34m\u001b[0m\u001b[0m\n",
      "\u001b[0;31mNameError\u001b[0m: name 'robot' is not defined"
     ]
    }
   ],
   "source": [
    "import time\n",
    "import cv2\n",
    "\n",
    "# Testing\n",
    "#frame = camera.getFrame()\n",
    "\n",
    "#vision.update(frame)\n",
    "#vision.calculateOrientation()\n",
    "#vision.identifyBalls()\n",
    "#vision.identifyFiducials()\n",
    "\n",
    "#virtualisation = vision.getVirtualisedView()\n",
    "#cv2.imshow(\"Frame\", frame)\n",
    "#cv2.imshow(\"Virtualisation\", virtualisation)\n",
    "#cv2.waitKey(0)\n",
    "#cv2.destroyAllWindows()\n",
    "    \n",
    "robot.testServo()\n",
    "\n",
    "#robot.motorRight.move(0.3)\n",
    "#time.sleep(1)\n",
    "#robot.motorLeft.move(None)\n",
    "#robot.motorRight.move(None)\n",
    "\n",
    "# 1. Wait for button press\n"
   ]
  },
  {
   "cell_type": "code",
   "execution_count": null,
   "id": "40a750cb",
   "metadata": {},
   "outputs": [],
   "source": []
  }
 ],
 "metadata": {
  "kernelspec": {
   "display_name": "Python 3 (ipykernel)",
   "language": "python",
   "name": "python3"
  },
  "language_info": {
   "codemirror_mode": {
    "name": "ipython",
    "version": 3
   },
   "file_extension": ".py",
   "mimetype": "text/x-python",
   "name": "python",
   "nbconvert_exporter": "python",
   "pygments_lexer": "ipython3",
   "version": "3.7.5"
  }
 },
 "nbformat": 4,
 "nbformat_minor": 5
}
